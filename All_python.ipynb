{
 "cells": [
  {
   "cell_type": "code",
   "execution_count": 1,
   "id": "27dbba63",
   "metadata": {},
   "outputs": [
    {
     "name": "stdout",
     "output_type": "stream",
     "text": [
      "Hello World\n"
     ]
    }
   ],
   "source": [
    "#1 hellow world\n",
    "print(\"Hello World\")"
   ]
  },
  {
   "cell_type": "code",
   "execution_count": 2,
   "id": "29ad4251",
   "metadata": {},
   "outputs": [
    {
     "name": "stdout",
     "output_type": "stream",
     "text": [
      "sum = 50\n"
     ]
    }
   ],
   "source": [
    "#2 add two number\n",
    "a=20\n",
    "b=30\n",
    "c=a+b\n",
    "print(\"sum =\",c)"
   ]
  },
  {
   "cell_type": "code",
   "execution_count": 3,
   "id": "03aaf56c",
   "metadata": {},
   "outputs": [
    {
     "name": "stdout",
     "output_type": "stream",
     "text": [
      "Enter a numer5\n",
      "root = 2.23606797749979\n"
     ]
    }
   ],
   "source": [
    "#3 find squre root\n",
    "a=int( input(\"Enter a numer\"))\n",
    "root=a**0.5\n",
    "print (\"root =\",root)"
   ]
  },
  {
   "cell_type": "code",
   "execution_count": 4,
   "id": "4a481cc5",
   "metadata": {},
   "outputs": [
    {
     "name": "stdout",
     "output_type": "stream",
     "text": [
      "Enter first side5\n",
      "Enter second side5\n",
      "Enter third side5\n",
      "The area of the triangle is 10.83\n"
     ]
    }
   ],
   "source": [
    "#4 calculate aera of triangle\n",
    "a = float(input(\"Enter first side\"))  \n",
    "b = float(input(\"Enter second side\"))  \n",
    "c = float(input(\"Enter third side\"))  \n",
    "semi_p =(a + b + c)/2  \n",
    "area = (semi_p*(semi_p-a)*(semi_p-b)*(semi_p-c)) ** 0.5  \n",
    "print('The area of the triangle is %0.2f' %area) "
   ]
  },
  {
   "cell_type": "code",
   "execution_count": 5,
   "id": "3ab09241",
   "metadata": {},
   "outputs": [],
   "source": [
    "#5 quadratic equation\n"
   ]
  },
  {
   "cell_type": "code",
   "execution_count": 6,
   "id": "751da4e3",
   "metadata": {},
   "outputs": [
    {
     "name": "stdout",
     "output_type": "stream",
     "text": [
      "Enter A Number5\n",
      "Enter second Number5\n",
      "Swap = 5 5\n"
     ]
    }
   ],
   "source": [
    "#6 swap two variable\n",
    "a=input(\"Enter A Number\")\n",
    "b=input(\"Enter second Number\")\n",
    "a,b=b,a\n",
    "print(\"Swap =\",a,b)"
   ]
  },
  {
   "cell_type": "code",
   "execution_count": 7,
   "id": "4d52260e",
   "metadata": {},
   "outputs": [],
   "source": [
    "#7 generate random number"
   ]
  },
  {
   "cell_type": "code",
   "execution_count": 8,
   "id": "5fc54261",
   "metadata": {},
   "outputs": [
    {
     "name": "stdout",
     "output_type": "stream",
     "text": [
      "Enter the value5\n",
      "5.0 km = 3.106855 miles\n"
     ]
    }
   ],
   "source": [
    "#8 convert kilometer to miles\n",
    "a=float(input(\"Enter the value\"))\n",
    "miles=a*0.621371\n",
    "print(a,\"km =\",miles,\"miles\")"
   ]
  },
  {
   "cell_type": "code",
   "execution_count": 9,
   "id": "d2b9adfe",
   "metadata": {},
   "outputs": [
    {
     "name": "stdout",
     "output_type": "stream",
     "text": [
      "Enter a number in celsius5\n",
      "5.0 Celsius = 41.0 fahrenhite\n"
     ]
    }
   ],
   "source": [
    "#9 convert celsius to fahrenheit\n",
    "a=float(input(\"Enter a number in celsius\"))\n",
    "fah=(a*1.8)+32\n",
    "print(a,\"Celsius =\",fah,\"fahrenhite\")"
   ]
  },
  {
   "cell_type": "code",
   "execution_count": 10,
   "id": "566d1fe8",
   "metadata": {},
   "outputs": [
    {
     "name": "stdout",
     "output_type": "stream",
     "text": [
      "Enter a number5\n",
      "positive\n"
     ]
    }
   ],
   "source": [
    "#10 check number is posiotive negative or zero\n",
    "a=int(input(\"Enter a number\"))\n",
    "if(a<0):\n",
    "    print(\"negative\")\n",
    "elif(a==0):\n",
    "    print(\"equal to zero\")\n",
    "else :\n",
    "    print(\"positive\")"
   ]
  },
  {
   "cell_type": "code",
   "execution_count": 11,
   "id": "d97fc40a",
   "metadata": {},
   "outputs": [
    {
     "name": "stdout",
     "output_type": "stream",
     "text": [
      "Enter a number5\n",
      "odd\n"
     ]
    }
   ],
   "source": [
    "#11 odd even\n",
    "a=int(input(\"Enter a number\"))\n",
    "if (a%2==0) :\n",
    "    print(\"Even\")\n",
    "else :\n",
    "    print(\"odd\")"
   ]
  },
  {
   "cell_type": "code",
   "execution_count": 12,
   "id": "a7e27759",
   "metadata": {},
   "outputs": [
    {
     "name": "stdout",
     "output_type": "stream",
     "text": [
      "Enter a number5\n",
      " Not a leap year\n"
     ]
    }
   ],
   "source": [
    "12#leap year\n",
    "a=int(input(\"Enter a number\"))\n",
    "if (a%400==0):\n",
    "    print(\"Leap year\")\n",
    "elif(a%100==0):\n",
    "    print(\"Not a Leap year\")\n",
    "elif(a%4==0):\n",
    "    print(\"Leap year\")\n",
    "else :\n",
    "    print(\" Not a leap year\")"
   ]
  },
  {
   "cell_type": "code",
   "execution_count": 13,
   "id": "570093d9",
   "metadata": {},
   "outputs": [
    {
     "name": "stdout",
     "output_type": "stream",
     "text": [
      "Enter first number5\n",
      "Emter second number5\n",
      "enter third number5\n",
      "5 is largest\n"
     ]
    }
   ],
   "source": [
    "13#find largest among three\n",
    "a=int(input(\"Enter first number\"))\n",
    "b=int(input(\"Emter second number\"))\n",
    "c=int(input(\"enter third number\"))\n",
    "if (a>b and a>c):\n",
    "    print(a,\"is largest\")\n",
    "elif (b>a and b>c):\n",
    "    print(b,\" is largest\")\n",
    "else :\n",
    "    print(c,\"is largest\")\n"
   ]
  },
  {
   "cell_type": "code",
   "execution_count": 14,
   "id": "4a1d9cd7",
   "metadata": {},
   "outputs": [
    {
     "name": "stdout",
     "output_type": "stream",
     "text": [
      "Enter a number5\n",
      "prime\n"
     ]
    }
   ],
   "source": [
    "14#prime\n",
    "a=int(input(\"Enter a number\"))\n",
    "n=a\n",
    "f=0\n",
    "for i in range(2,n):\n",
    "    if(a%i==0) :\n",
    "        f=1\n",
    "        break\n",
    "if (f==1):\n",
    "    print(\"not prime\")\n",
    "else:\n",
    "    print(\"prime\")"
   ]
  },
  {
   "cell_type": "code",
   "execution_count": 15,
   "id": "99b1a52a",
   "metadata": {},
   "outputs": [
    {
     "name": "stdout",
     "output_type": "stream",
     "text": [
      "Enter a number5\n",
      "5\n"
     ]
    }
   ],
   "source": [
    "#15 all prime\n",
    "n=int(input(\"Enter a number\"))\n",
    "n=a\n",
    "f=0\n",
    "for i in range(2,n):\n",
    "    if (a%i!=0):\n",
    "        f=1\n",
    "        break\n",
    "if (f==1):\n",
    "    print(a)\n",
    "    \n"
   ]
  },
  {
   "cell_type": "code",
   "execution_count": 16,
   "id": "5fab194d",
   "metadata": {},
   "outputs": [
    {
     "name": "stdout",
     "output_type": "stream",
     "text": [
      "enter a number5\n",
      "1\n",
      "2\n",
      "6\n",
      "24\n",
      "120\n"
     ]
    }
   ],
   "source": [
    "#16 factorial\n",
    "a=int(input(\"enter a number\"))\n",
    "fact=1\n",
    "for i in range (1,a+1):\n",
    "    fact=fact*i\n",
    "    print(fact)"
   ]
  },
  {
   "cell_type": "code",
   "execution_count": 17,
   "id": "b480b0e7",
   "metadata": {},
   "outputs": [
    {
     "name": "stdout",
     "output_type": "stream",
     "text": [
      "Enter a number5\n",
      "5 * 1 = 5\n",
      "10 * 2 = 10\n",
      "15 * 3 = 15\n",
      "20 * 4 = 20\n",
      "25 * 5 = 25\n",
      "30 * 6 = 30\n",
      "35 * 7 = 35\n",
      "40 * 8 = 40\n",
      "45 * 9 = 45\n",
      "50 * 10 = 50\n"
     ]
    }
   ],
   "source": [
    "#17 multiplecation table\n",
    "a=int(input(\"Enter a number\"))\n",
    "for i in range(1,11):\n",
    "    t=a*i\n",
    "    print(t,\"*\",i,\"=\",t)"
   ]
  },
  {
   "cell_type": "code",
   "execution_count": 18,
   "id": "535ed963",
   "metadata": {},
   "outputs": [
    {
     "name": "stdout",
     "output_type": "stream",
     "text": [
      "enter a number where up to print 5\n",
      "Fibonacci sequence:\n",
      "0\n",
      "1\n",
      "1\n",
      "2\n",
      "3\n"
     ]
    }
   ],
   "source": [
    "#18 fibonacci sequence\n",
    "n = int(input(\"enter a number where up to print \"))\n",
    "n1, n2 = 0, 1\n",
    "count = 0\n",
    "if n == 1:\n",
    "   print(\"Fibonacci sequence upto\",n,)\n",
    "   print(n1)\n",
    "else:\n",
    "   print(\"Fibonacci sequence:\")\n",
    "   while count < n:\n",
    "       print(n1)\n",
    "       nth = n1 + n2\n",
    "       n1 = n2\n",
    "       n2 = nth\n",
    "       count += 1"
   ]
  },
  {
   "cell_type": "code",
   "execution_count": 19,
   "id": "3fc45f4b",
   "metadata": {},
   "outputs": [
    {
     "name": "stdout",
     "output_type": "stream",
     "text": [
      "Enter a number5\n",
      "5 is not an Armstrong number\n"
     ]
    }
   ],
   "source": [
    "#19 Armstrom number\n",
    "num=int(input(\"Enter a number\"))\n",
    "sum=0\n",
    "temp=num\n",
    "while temp>0:\n",
    "   digit = temp%10\n",
    "   sum += digit ** 3\n",
    "   temp//= 10\n",
    "if num==sum:\n",
    "   print(num,\"is an Armstrong number\")\n",
    "else:\n",
    "   print(num,\"is not an Armstrong number\")\n"
   ]
  },
  {
   "cell_type": "code",
   "execution_count": 20,
   "id": "0ea1a44d",
   "metadata": {},
   "outputs": [
    {
     "name": "stdout",
     "output_type": "stream",
     "text": [
      "153\n",
      "370\n",
      "371\n",
      "407\n",
      "1634\n"
     ]
    }
   ],
   "source": [
    "#20 find armstrong number in an interval\n",
    "l = 100\n",
    "u = 2000\n",
    "for num in range(l,u+1):\n",
    "   order=len(str(num))\n",
    "   sum = 0\n",
    "   temp = num\n",
    "   while temp > 0:\n",
    "       digit = temp % 10\n",
    "       sum += digit**order\n",
    "       temp //= 10\n",
    "   if num == sum:\n",
    "       print(num)"
   ]
  },
  {
   "cell_type": "code",
   "execution_count": 21,
   "id": "2182b1c9",
   "metadata": {},
   "outputs": [
    {
     "name": "stdout",
     "output_type": "stream",
     "text": [
      "Enter a positive number5\n",
      "5\n",
      "7\n",
      "9\n",
      "11\n",
      "13\n"
     ]
    }
   ],
   "source": [
    "#21 find the sum of natural number\n",
    "n=int(input(\"Enter a positive number\"))\n",
    "for i in range (0,n):\n",
    "    sum=(i+n)\n",
    "    sum_a=sum+i\n",
    "    print(sum_a)\n"
   ]
  },
  {
   "cell_type": "code",
   "execution_count": 22,
   "id": "6fed1c9c",
   "metadata": {},
   "outputs": [
    {
     "name": "stdout",
     "output_type": "stream",
     "text": [
      "Enter a number where upto print5\n",
      "The total terms are 5\n",
      "2 rais to power of 0 is 1\n",
      "2 rais to power of 1 is 2\n",
      "2 rais to power of 2 is 4\n",
      "2 rais to power of 3 is 8\n",
      "2 rais to power of 4 is 16\n"
     ]
    }
   ],
   "source": [
    "#22 Display Powers of 2 using Anonymous function\n",
    "n= int(input(\"Enter a number where upto print\"))\n",
    "print(\"The total terms are\",n)\n",
    "for i in range(0,n):\n",
    "    a=list(map(lambda x : 2**x,range(n)))\n",
    "    print(\"2 rais to power of\",i,\"is\",a[i])\n",
    "    \n"
   ]
  },
  {
   "cell_type": "code",
   "execution_count": 23,
   "id": "767934e7",
   "metadata": {},
   "outputs": [
    {
     "name": "stdout",
     "output_type": "stream",
     "text": [
      "Enter the number of list5\n",
      "Enter the element list\n",
      "5\n",
      "5\n",
      "5\n",
      "5\n",
      "5\n",
      "[5, 5, 5, 5, 5]\n",
      "enter a number that divides x5\n"
     ]
    },
    {
     "ename": "TypeError",
     "evalue": "'int' object is not iterable",
     "output_type": "error",
     "traceback": [
      "\u001b[1;31m---------------------------------------------------------------------------\u001b[0m",
      "\u001b[1;31mTypeError\u001b[0m                                 Traceback (most recent call last)",
      "\u001b[1;32m<ipython-input-23-29517040a69d>\u001b[0m in \u001b[0;36m<module>\u001b[1;34m\u001b[0m\n\u001b[0;32m      8\u001b[0m \u001b[0mprint\u001b[0m\u001b[1;33m(\u001b[0m\u001b[0ml\u001b[0m\u001b[1;33m)\u001b[0m\u001b[1;33m\u001b[0m\u001b[1;33m\u001b[0m\u001b[0m\n\u001b[0;32m      9\u001b[0m \u001b[0ma\u001b[0m\u001b[1;33m=\u001b[0m\u001b[0mint\u001b[0m\u001b[1;33m(\u001b[0m\u001b[0minput\u001b[0m\u001b[1;33m(\u001b[0m\u001b[1;34m\"enter a number that divides x\"\u001b[0m\u001b[1;33m)\u001b[0m\u001b[1;33m)\u001b[0m\u001b[1;33m\u001b[0m\u001b[1;33m\u001b[0m\u001b[0m\n\u001b[1;32m---> 10\u001b[1;33m \u001b[0mresult\u001b[0m \u001b[1;33m=\u001b[0m \u001b[0mlist\u001b[0m\u001b[1;33m(\u001b[0m\u001b[0mfilter\u001b[0m\u001b[1;33m(\u001b[0m\u001b[1;32mlambda\u001b[0m \u001b[0ml\u001b[0m\u001b[1;33m:\u001b[0m \u001b[1;33m(\u001b[0m\u001b[0ml\u001b[0m \u001b[1;33m%\u001b[0m \u001b[0ma\u001b[0m \u001b[1;33m==\u001b[0m \u001b[1;36m0\u001b[0m\u001b[1;33m)\u001b[0m\u001b[1;33m,\u001b[0m \u001b[0mb\u001b[0m\u001b[1;33m)\u001b[0m\u001b[1;33m)\u001b[0m\u001b[1;33m\u001b[0m\u001b[1;33m\u001b[0m\u001b[0m\n\u001b[0m\u001b[0;32m     11\u001b[0m \u001b[0mprint\u001b[0m\u001b[1;33m(\u001b[0m\u001b[1;34m\"Numbers divisible by \"\u001b[0m\u001b[1;33m,\u001b[0m\u001b[0ma\u001b[0m\u001b[1;33m,\u001b[0m\u001b[1;34m\" are\"\u001b[0m\u001b[1;33m,\u001b[0m\u001b[0mresult\u001b[0m\u001b[1;33m)\u001b[0m\u001b[1;33m\u001b[0m\u001b[1;33m\u001b[0m\u001b[0m\n",
      "\u001b[1;31mTypeError\u001b[0m: 'int' object is not iterable"
     ]
    }
   ],
   "source": [
    "#23 Find number divisible by another number\n",
    "b=int(input(\"Enter the number of list\"))\n",
    "l=[]\n",
    "print(\"Enter the element list\")\n",
    "for i in range(0,b):\n",
    "    ele=int(input())\n",
    "    l.append(ele)\n",
    "print(l)\n",
    "a=int(input(\"enter a number that divides x\"))\n",
    "result = list(filter(lambda l: (l % a == 0), b))\n",
    "print(\"Numbers divisible by \",a,\" are\",result)"
   ]
  },
  {
   "cell_type": "code",
   "execution_count": null,
   "id": "81429676",
   "metadata": {},
   "outputs": [],
   "source": [
    "#24 convert decimal to binary, octal and hexadecimal\n",
    "n=int(input(\"Enter the number \"))\n",
    "dec=n\n",
    "print(\"the decimal number of\",n,\"is\")\n",
    "print(bin(dec),\"in binary\")\n",
    "print(oct(dec),\"in octal\")\n",
    "print(hex(dec),\"in Hexadecimal\")"
   ]
  },
  {
   "cell_type": "code",
   "execution_count": null,
   "id": "88845595",
   "metadata": {},
   "outputs": [],
   "source": [
    "#25 Find ASCII value of Character\n",
    "c=(input(\"Enter a charactor\"))\n",
    "print(\"The ascci value of \"+c+\" is\",ord(c))"
   ]
  },
  {
   "cell_type": "code",
   "execution_count": null,
   "id": "c01b70a2",
   "metadata": {},
   "outputs": [],
   "source": [
    "#26 Find HCF of GCD\n",
    "a=int(input(\"Enter a number\"))\n",
    "b=int(input(\"enter second number\"))\n",
    "def o_hcf(x,y):\n",
    "    if x > y:\n",
    "        small = y\n",
    "    else:\n",
    "        small = x\n",
    "    for i in range(1, small+1):\n",
    "        if((x % i == 0) and (y % i == 0)):\n",
    "            hcf = i \n",
    "    return hcf\n",
    "print(\"The H.C.F. is\", o_hcf(a,b))\n"
   ]
  },
  {
   "cell_type": "code",
   "execution_count": null,
   "id": "15066778",
   "metadata": {},
   "outputs": [],
   "source": [
    "#27 Find LCM\n",
    "a=int(input(\"Enter a number\"))\n",
    "b=int(input(\"enter second number\"))\n",
    "def c_lcm(x, y):\n",
    "   if x > y:\n",
    "       greater = x\n",
    "   else:\n",
    "       greater = y\n",
    "   while(True):\n",
    "       if((greater % x == 0) and (greater % y == 0)):\n",
    "           lcm = greater\n",
    "           break\n",
    "       greater += 1\n",
    "\n",
    "   return lcm\n",
    "print(\"The L.C.M. is\", c_lcm(a,b))"
   ]
  },
  {
   "cell_type": "code",
   "execution_count": null,
   "id": "ac709912",
   "metadata": {},
   "outputs": [],
   "source": [
    "#28 Find the factors of a number\n",
    "a=int(input(\"Enter a number\"))\n",
    "def print_factors(x):\n",
    "   print(\"The factors of\",x,\"are:\")\n",
    "   for i in range(1, x + 1):\n",
    "       if x % i == 0:\n",
    "           print(i)\n",
    "print_factors(a)"
   ]
  },
  {
   "cell_type": "code",
   "execution_count": null,
   "id": "a4ff164d",
   "metadata": {},
   "outputs": [],
   "source": [
    "#29 Make a simple calculator\n",
    "a=int(input(\"Enter a number\"))\n",
    "c=input(\"enter a choice{for addition(+),for substraction(-).for multiplication(*),for divide(/)}\")\n",
    "b=int(input(\"enter second number\"))\n",
    "add=a+b\n",
    "sub=a-b\n",
    "div=a/b\n",
    "mul=a*b\n",
    "if c=='+':\n",
    "    print(\"The addition of\",a,\"+\",b,\"is =\",add)\n",
    "elif c=='-':\n",
    "    print(\"The substaction of\",a,\"-\",b,\"is =\",sub)\n",
    "elif c=='/':\n",
    "    print(\"The divition of\",a,\"/\",b,\"is =\",div)\n",
    "elif c=='*':\n",
    "    print(\"The multiplication of\",a,\"*\",b,\"is =\",mul)\n",
    "else :\n",
    "    print(\"enter correct choice\")\n",
    "\n"
   ]
  },
  {
   "cell_type": "code",
   "execution_count": null,
   "id": "f2f5aa87",
   "metadata": {},
   "outputs": [],
   "source": [
    "#30 Shuffle Deck of cards"
   ]
  },
  {
   "cell_type": "code",
   "execution_count": null,
   "id": "154b2b16",
   "metadata": {},
   "outputs": [],
   "source": [
    "#31 Display calender \n",
    "import calander\n"
   ]
  },
  {
   "cell_type": "code",
   "execution_count": null,
   "id": "2e4dac8a",
   "metadata": {},
   "outputs": [],
   "source": [
    "#32  Display fibonacci Sequence using recursion \n",
    "def fibo(n):\n",
    "    if(n<=1):\n",
    "      return 1\n",
    "    else:\n",
    "      return (fibo(n-1)+fibo(n-2))\n",
    "       \n",
    "n=int(input(\"Enter then fibo number::\\n\")) \n",
    "print(\"FIBONACCY SERIESE\\n\")\n",
    "for i in range(n):\n",
    "    print(fibo(i),end=\" \\n\")  \n",
    "print(fibo(n)) "
   ]
  },
  {
   "cell_type": "code",
   "execution_count": null,
   "id": "058a4017",
   "metadata": {},
   "outputs": [],
   "source": [
    "#33 find sum of natural number using recursion\n",
    "def recur(n):\n",
    "   if n <= 1:\n",
    "       return n\n",
    "   else:\n",
    "       return n + recur(n-1)\n",
    "num=50\n",
    "if num < 0:\n",
    "   print(\"Enter a positive number\")\n",
    "else:\n",
    "   print(\"The sum is\",recur(num))\n"
   ]
  },
  {
   "cell_type": "code",
   "execution_count": null,
   "id": "9c5b8644",
   "metadata": {},
   "outputs": [],
   "source": [
    "#34 Find factorial of number using recursion\n",
    "fact=1\n",
    "for i in range (1,a+1):\n",
    "    fact=fact*i\n",
    "    print(fact)\n"
   ]
  },
  {
   "cell_type": "code",
   "execution_count": null,
   "id": "9ff021c6",
   "metadata": {},
   "outputs": [],
   "source": [
    "#35 Convert decimal to binary using recursion"
   ]
  },
  {
   "cell_type": "code",
   "execution_count": null,
   "id": "a07f819a",
   "metadata": {},
   "outputs": [],
   "source": [
    "#36 Add two matrix"
   ]
  },
  {
   "cell_type": "code",
   "execution_count": null,
   "id": "2df2cf0b",
   "metadata": {},
   "outputs": [],
   "source": [
    "#37 transpose a matrix"
   ]
  },
  {
   "cell_type": "code",
   "execution_count": null,
   "id": "0395eee9",
   "metadata": {},
   "outputs": [],
   "source": [
    "#38 multiply two matrix"
   ]
  },
  {
   "cell_type": "code",
   "execution_count": null,
   "id": "ced6f08a",
   "metadata": {},
   "outputs": [],
   "source": [
    "#39 check whether a string is palindrome o not"
   ]
  },
  {
   "cell_type": "code",
   "execution_count": null,
   "id": "07fa6bd7",
   "metadata": {},
   "outputs": [],
   "source": [
    "#40 Remove punctuation from a string"
   ]
  },
  {
   "cell_type": "code",
   "execution_count": null,
   "id": "c680090d",
   "metadata": {},
   "outputs": [],
   "source": [
    "#41 Sort Words in Alphabetic order"
   ]
  },
  {
   "cell_type": "code",
   "execution_count": null,
   "id": "df3882ab",
   "metadata": {},
   "outputs": [],
   "source": [
    "#42 Illustrate Different set Operation"
   ]
  },
  {
   "cell_type": "code",
   "execution_count": null,
   "id": "c7d96d11",
   "metadata": {},
   "outputs": [],
   "source": [
    "#43 Count the umber of each vowel"
   ]
  },
  {
   "cell_type": "code",
   "execution_count": null,
   "id": "c1869482",
   "metadata": {},
   "outputs": [],
   "source": [
    "#44 Merge Mails"
   ]
  },
  {
   "cell_type": "code",
   "execution_count": null,
   "id": "514d25d7",
   "metadata": {},
   "outputs": [],
   "source": [
    "#45 Find the sixe(Resolution) of a image"
   ]
  },
  {
   "cell_type": "code",
   "execution_count": null,
   "id": "13d658e3",
   "metadata": {},
   "outputs": [],
   "source": [
    "#46 Find hash of file"
   ]
  },
  {
   "cell_type": "code",
   "execution_count": null,
   "id": "db9e9ff3",
   "metadata": {},
   "outputs": [],
   "source": [
    "#47 Create pyramid patterns"
   ]
  },
  {
   "cell_type": "code",
   "execution_count": null,
   "id": "9a61aec3",
   "metadata": {},
   "outputs": [],
   "source": [
    "#48 Merge two dictionaries"
   ]
  },
  {
   "cell_type": "code",
   "execution_count": null,
   "id": "e5c22b35",
   "metadata": {},
   "outputs": [],
   "source": [
    "#49 Safely Create a Nested Directory"
   ]
  },
  {
   "cell_type": "code",
   "execution_count": null,
   "id": "a38784f3",
   "metadata": {},
   "outputs": [],
   "source": [
    "#50 Access Index of a list using for loop"
   ]
  },
  {
   "cell_type": "code",
   "execution_count": null,
   "id": "b88c7ca1",
   "metadata": {},
   "outputs": [],
   "source": [
    "#51 Make a flattend list from nested list"
   ]
  },
  {
   "cell_type": "code",
   "execution_count": null,
   "id": "91efe51a",
   "metadata": {},
   "outputs": [],
   "source": [
    "#52 Slice Lists"
   ]
  },
  {
   "cell_type": "code",
   "execution_count": null,
   "id": "bd3da0f7",
   "metadata": {},
   "outputs": [],
   "source": [
    "#53 Itrate over dictionaries using loop"
   ]
  },
  {
   "cell_type": "code",
   "execution_count": null,
   "id": "8e4ff796",
   "metadata": {},
   "outputs": [],
   "source": [
    "#54 Sort a Dictionary by value"
   ]
  },
  {
   "cell_type": "code",
   "execution_count": null,
   "id": "0ee2d9eb",
   "metadata": {},
   "outputs": [],
   "source": [
    "#55 Check if a list is Empty"
   ]
  },
  {
   "cell_type": "code",
   "execution_count": null,
   "id": "cf8d0de6",
   "metadata": {},
   "outputs": [],
   "source": [
    "#56 Catch Multiple Exception in one line"
   ]
  },
  {
   "cell_type": "code",
   "execution_count": null,
   "id": "72277865",
   "metadata": {},
   "outputs": [],
   "source": [
    "#57 copy a file"
   ]
  },
  {
   "cell_type": "code",
   "execution_count": null,
   "id": "c628afc0",
   "metadata": {},
   "outputs": [],
   "source": [
    "#58 Concatenate two lists"
   ]
  },
  {
   "cell_type": "code",
   "execution_count": null,
   "id": "c210ba75",
   "metadata": {},
   "outputs": [],
   "source": [
    "#59 check if  key is already present in a dictionary"
   ]
  },
  {
   "cell_type": "code",
   "execution_count": null,
   "id": "4ac1094d",
   "metadata": {},
   "outputs": [],
   "source": [
    "#60 split a list into Evenly size chunks"
   ]
  },
  {
   "cell_type": "code",
   "execution_count": null,
   "id": "56fa55fe",
   "metadata": {},
   "outputs": [],
   "source": [
    "#61 parse a string to a float or int"
   ]
  },
  {
   "cell_type": "code",
   "execution_count": null,
   "id": "ece6c069",
   "metadata": {},
   "outputs": [],
   "source": [
    "#62 print colored text to the terminal"
   ]
  },
  {
   "cell_type": "code",
   "execution_count": null,
   "id": "ef5ab71d",
   "metadata": {},
   "outputs": [],
   "source": [
    "#63 convert string to datetime"
   ]
  },
  {
   "cell_type": "code",
   "execution_count": null,
   "id": "027fe4a9",
   "metadata": {},
   "outputs": [],
   "source": [
    "#64 get the last element of the list"
   ]
  },
  {
   "cell_type": "code",
   "execution_count": null,
   "id": "d6255f14",
   "metadata": {},
   "outputs": [],
   "source": [
    "#65 Get a substring of a string"
   ]
  },
  {
   "cell_type": "code",
   "execution_count": null,
   "id": "e9bf568d",
   "metadata": {},
   "outputs": [],
   "source": [
    "#66 Print output without a new line"
   ]
  },
  {
   "cell_type": "code",
   "execution_count": null,
   "id": "00e0c35b",
   "metadata": {},
   "outputs": [],
   "source": [
    "#67 Read a file line by line into a list"
   ]
  },
  {
   "cell_type": "code",
   "execution_count": null,
   "id": "f632d71f",
   "metadata": {},
   "outputs": [],
   "source": [
    "#68 randomly select an element from the list "
   ]
  },
  {
   "cell_type": "code",
   "execution_count": null,
   "id": "9ed06033",
   "metadata": {},
   "outputs": [],
   "source": [
    "#69 Check if a string is a number(float)"
   ]
  },
  {
   "cell_type": "code",
   "execution_count": null,
   "id": "f856ff07",
   "metadata": {},
   "outputs": [],
   "source": [
    "#70 count the occurrence of an item in a list"
   ]
  },
  {
   "cell_type": "code",
   "execution_count": null,
   "id": "4b3b5a20",
   "metadata": {},
   "outputs": [],
   "source": [
    "#71 Append to a file"
   ]
  },
  {
   "cell_type": "code",
   "execution_count": null,
   "id": "56df7300",
   "metadata": {},
   "outputs": [],
   "source": [
    "#72 Delete an element from a dictionary"
   ]
  },
  {
   "cell_type": "code",
   "execution_count": null,
   "id": "82543867",
   "metadata": {},
   "outputs": [],
   "source": [
    "#73 Create a long Multiline string"
   ]
  },
  {
   "cell_type": "code",
   "execution_count": null,
   "id": "8f9eacc7",
   "metadata": {},
   "outputs": [],
   "source": [
    "#74 Extract Extension from the file name"
   ]
  },
  {
   "cell_type": "code",
   "execution_count": null,
   "id": "52f2109a",
   "metadata": {},
   "outputs": [],
   "source": [
    "#75 Measure the Elapsed Time in python"
   ]
  },
  {
   "cell_type": "code",
   "execution_count": null,
   "id": "12158ccb",
   "metadata": {},
   "outputs": [],
   "source": [
    "#76 Get the class name of an instance"
   ]
  },
  {
   "cell_type": "code",
   "execution_count": null,
   "id": "21329c27",
   "metadata": {},
   "outputs": [],
   "source": [
    "#77 convert two list into a dictionary"
   ]
  },
  {
   "cell_type": "code",
   "execution_count": null,
   "id": "fe82f113",
   "metadata": {},
   "outputs": [],
   "source": [
    "#78 Diufference between type() and isinstance()"
   ]
  },
  {
   "cell_type": "code",
   "execution_count": null,
   "id": "8e70e372",
   "metadata": {},
   "outputs": [],
   "source": [
    "#79 Trim whitespace from a string"
   ]
  },
  {
   "cell_type": "code",
   "execution_count": null,
   "id": "2eb7a263",
   "metadata": {},
   "outputs": [],
   "source": [
    "#80 Get the file name from the file path"
   ]
  }
 ],
 "metadata": {
  "kernelspec": {
   "display_name": "Python 3",
   "language": "python",
   "name": "python3"
  },
  "language_info": {
   "codemirror_mode": {
    "name": "ipython",
    "version": 3
   },
   "file_extension": ".py",
   "mimetype": "text/x-python",
   "name": "python",
   "nbconvert_exporter": "python",
   "pygments_lexer": "ipython3",
   "version": "3.8.8"
  }
 },
 "nbformat": 4,
 "nbformat_minor": 5
}
